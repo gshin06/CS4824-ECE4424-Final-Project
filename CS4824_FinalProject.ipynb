{
  "nbformat": 4,
  "nbformat_minor": 0,
  "metadata": {
    "colab": {
      "provenance": []
    },
    "kernelspec": {
      "name": "python3",
      "display_name": "Python 3"
    },
    "language_info": {
      "name": "python"
    }
  },
  "cells": [
    {
      "cell_type": "markdown",
      "source": [
        "Imports and pip installs"
      ],
      "metadata": {
        "id": "2Q-vhWXUx90b"
      }
    },
    {
      "cell_type": "code",
      "source": [
        "!pip install scikit-learn\n",
        "from sklearn.neighbors import KNeighborsClassifier\n",
        "from sklearn.model_selection import train_test_split\n",
        "from sklearn.metrics import accuracy_score\n",
        "from sklearn.preprocessing import StandardScaler\n",
        "from sklearn.model_selection import cross_val_score\n",
        "from sklearn.ensemble import RandomForestClassifier\n",
        "import seaborn as sns\n",
        "\n",
        "import numpy as np\n",
        "import matplotlib.pyplot as plt\n",
        "import time\n",
        "import random"
      ],
      "metadata": {
        "colab": {
          "base_uri": "https://localhost:8080/"
        },
        "id": "-waUNbNHyF3F",
        "outputId": "0d0d2a06-d6c1-4449-e60e-4158cb3ce1dd"
      },
      "execution_count": null,
      "outputs": [
        {
          "output_type": "stream",
          "name": "stdout",
          "text": [
            "Requirement already satisfied: scikit-learn in /usr/local/lib/python3.10/dist-packages (1.2.2)\n",
            "Requirement already satisfied: numpy>=1.17.3 in /usr/local/lib/python3.10/dist-packages (from scikit-learn) (1.23.5)\n",
            "Requirement already satisfied: scipy>=1.3.2 in /usr/local/lib/python3.10/dist-packages (from scikit-learn) (1.11.4)\n",
            "Requirement already satisfied: joblib>=1.1.1 in /usr/local/lib/python3.10/dist-packages (from scikit-learn) (1.3.2)\n",
            "Requirement already satisfied: threadpoolctl>=2.0.0 in /usr/local/lib/python3.10/dist-packages (from scikit-learn) (3.2.0)\n"
          ]
        }
      ]
    },
    {
      "cell_type": "markdown",
      "source": [
        "Data Conversion"
      ],
      "metadata": {
        "id": "U7Jjyz2g0wJU"
      }
    },
    {
      "cell_type": "code",
      "source": [
        "# RSSI_AVG: Avg Signal Strength.\n",
        "# RSSI_ST: Standard Deviation\n",
        "# RSSI_SUM: The total Sum\n",
        "# C_T(0-5): Length of time data was collected\n",
        "# C_T(5-10): Length of time data was collected\n",
        "# C_T(10-15): Length of time data was collected\n",
        "# C_T(15-20): Length of time data was collected\n",
        "# M_AVG: Average Number of times that Data was detected during fine grain time period\n",
        "\n",
        "# C_T is going to be broken down to more components. Divide each 20 sec interval to 4 5 seconds intervals. M_AVG average amount of probes.\n",
        "import json, codecs\n",
        "import numpy as np\n",
        "import math\n",
        "import time\n",
        "# Time, mac address, signal strenght, probe # devices\n",
        "\n",
        "# Convert data json to np array\n",
        "obj_text = codecs.open('data.json', 'r', encoding='utf-8').read()\n",
        "b_new = json.loads(obj_text) #This reads json to list\n",
        "data = np.array(b_new)       #This converts to numpy\n",
        "\n",
        "# Convert labels json to np array\n",
        "labels = []     #This converts to numpy array of integers\n",
        "\n",
        "\n",
        "# Data declaration\n",
        "# Data is held in a 2 dimensional array for each ping.\n",
        "converted_data = [] # Look at top comment for order of the data points\n",
        "\n",
        "#[0, 0, 0, 0, 0, 0, 0, 0]\n",
        "\n",
        "# Calc RSSI_AVG and RSSI_SUM\n",
        "firstTime = data[0][0]\n",
        "nextBlock = float(firstTime) + 20\n",
        "currRSSI_SUM = 0\n",
        "currM_AVG = 0\n",
        "stdevSet = []\n",
        "numPoints = 0\n",
        "labelAverage = 0\n",
        "\n",
        "macDict = {} # Dictionary of MAC addresses and the amount of time\n",
        "\n",
        "# Outer loop to go through json\n",
        "for x in range(len(data)):\n",
        "  if (float(data[x][0]) <= nextBlock): # Keep adding to the curr vars\n",
        "    currRSSI_SUM += int(data[x][2]) # Update Sum\n",
        "    stdevSet.append(data[x][2])              # Append the signal strength to the stdSet for calculation\n",
        "    currM_AVG += int(data[x][3])                  # Update M_AVG\n",
        "    numPoints += 1                           # Increment the number of points in this block\n",
        "    labelAverage += int(data[x][4]) # Increment the label average\n",
        "\n",
        "    # Length of specific MAC addresses\n",
        "    if (data[x][1] in macDict):\n",
        "      macDict[data[x][1]] = macDict[data[x][1]] + 1\n",
        "    else:\n",
        "      macDict[data[x][1]] = 1\n",
        "\n",
        "  else: # This section we append to the converted_data list\n",
        "    dataPoint = [0, 0, 0, 0, 0, 0, 0, 0]\n",
        "    dataPoint[0] = currRSSI_SUM / numPoints   # RSSI_AVG\n",
        "    dataPoint[2] = currRSSI_SUM               # RSSI_SUM\n",
        "    dataPoint[7] = currM_AVG / numPoints      # M_AVG\n",
        "    labels.append(labelAverage / numPoints)\n",
        "    # Calculate STDEV\n",
        "    for x in stdevSet:\n",
        "      dataPoint[1] += (int(x) - dataPoint[0]) ** 2\n",
        "    dataPoint[1] = math.sqrt(dataPoint[1] / numPoints)\n",
        "\n",
        "    # Calculate C_T\n",
        "    for item in macDict.values():\n",
        "      if (item <= 5):\n",
        "        dataPoint[3] += 1\n",
        "      elif(item <= 10):\n",
        "        dataPoint[4] += 1\n",
        "      elif (item <= 15):\n",
        "        dataPoint[5] += 1\n",
        "      else:\n",
        "        dataPoint[6] += 1\n",
        "    # Append to the final set\n",
        "    converted_data.append(dataPoint)\n",
        "\n",
        "    # Reset for the next block\n",
        "    nextBlock += 20\n",
        "    currRSSI_SUM = 0\n",
        "    currM_AVG = 0\n",
        "    stdevSet = []\n",
        "    numPoints = 0\n",
        "    labelAverage = 0\n",
        "    macDict.clear()\n",
        "labels = np.array(labels, int)"
      ],
      "metadata": {
        "id": "ubLicSFR0xKs"
      },
      "execution_count": null,
      "outputs": []
    },
    {
      "cell_type": "markdown",
      "source": [
        "KNN Classifier Code"
      ],
      "metadata": {
        "id": "ONd8mX9cy9DQ"
      }
    },
    {
      "cell_type": "code",
      "source": [
        "# Split the data\n",
        "X_train, X_test, y_train, y_test = train_test_split(converted_data, labels, test_size=0.2)\n",
        "\n",
        "# Normalize the data\n",
        "scaler = StandardScaler()\n",
        "X_train = scaler.fit_transform(X_train)\n",
        "X_test = scaler.transform(X_test)\n",
        "\n",
        "# Fitting the model\n",
        "knn = KNeighborsClassifier(n_neighbors=3)\n",
        "knn.fit(X_train, y_train)\n",
        "\n",
        "# Generate Predictions\n",
        "y_pred = knn.predict(X_test)\n",
        "\n",
        "# Accuracy Check\n",
        "accuracy = accuracy_score(y_test, y_pred)\n",
        "print(\"Accuracy: \", accuracy)\n",
        "\n",
        "# Cross Fold Validation\n",
        "k_values = [i for i in range (1,31)]\n",
        "scores = []\n",
        "\n",
        "scaler = StandardScaler()\n",
        "X = scaler.fit_transform(converted_data)\n",
        "\n",
        "# Try every value\n",
        "for k in k_values:\n",
        "  knn = KNeighborsClassifier(n_neighbors=k)\n",
        "  score = cross_val_score(knn, X, labels, cv=5)\n",
        "  scores.append(np.mean(score))\n",
        "\n",
        "# Visualize Results\n",
        "sns.lineplot(x = k_values, y = scores, marker = 'o')\n",
        "plt.xlabel(\"K Values\")\n",
        "plt.ylabel(\"Accuracy Score\")"
      ],
      "metadata": {
        "id": "NfaFo2p7y_by",
        "colab": {
          "base_uri": "https://localhost:8080/",
          "height": 1000
        },
        "outputId": "16c92c2c-c1ab-416d-c725-a62fca84cecb"
      },
      "execution_count": null,
      "outputs": [
        {
          "output_type": "stream",
          "name": "stdout",
          "text": [
            "Accuracy:  0.8\n"
          ]
        },
        {
          "output_type": "stream",
          "name": "stderr",
          "text": [
            "/usr/local/lib/python3.10/dist-packages/sklearn/model_selection/_split.py:700: UserWarning: The least populated class in y has only 1 members, which is less than n_splits=5.\n",
            "  warnings.warn(\n",
            "/usr/local/lib/python3.10/dist-packages/sklearn/model_selection/_split.py:700: UserWarning: The least populated class in y has only 1 members, which is less than n_splits=5.\n",
            "  warnings.warn(\n",
            "/usr/local/lib/python3.10/dist-packages/sklearn/model_selection/_split.py:700: UserWarning: The least populated class in y has only 1 members, which is less than n_splits=5.\n",
            "  warnings.warn(\n",
            "/usr/local/lib/python3.10/dist-packages/sklearn/model_selection/_split.py:700: UserWarning: The least populated class in y has only 1 members, which is less than n_splits=5.\n",
            "  warnings.warn(\n",
            "/usr/local/lib/python3.10/dist-packages/sklearn/model_selection/_split.py:700: UserWarning: The least populated class in y has only 1 members, which is less than n_splits=5.\n",
            "  warnings.warn(\n",
            "/usr/local/lib/python3.10/dist-packages/sklearn/model_selection/_split.py:700: UserWarning: The least populated class in y has only 1 members, which is less than n_splits=5.\n",
            "  warnings.warn(\n",
            "/usr/local/lib/python3.10/dist-packages/sklearn/model_selection/_split.py:700: UserWarning: The least populated class in y has only 1 members, which is less than n_splits=5.\n",
            "  warnings.warn(\n",
            "/usr/local/lib/python3.10/dist-packages/sklearn/model_selection/_split.py:700: UserWarning: The least populated class in y has only 1 members, which is less than n_splits=5.\n",
            "  warnings.warn(\n",
            "/usr/local/lib/python3.10/dist-packages/sklearn/model_selection/_split.py:700: UserWarning: The least populated class in y has only 1 members, which is less than n_splits=5.\n",
            "  warnings.warn(\n",
            "/usr/local/lib/python3.10/dist-packages/sklearn/model_selection/_split.py:700: UserWarning: The least populated class in y has only 1 members, which is less than n_splits=5.\n",
            "  warnings.warn(\n",
            "/usr/local/lib/python3.10/dist-packages/sklearn/model_selection/_split.py:700: UserWarning: The least populated class in y has only 1 members, which is less than n_splits=5.\n",
            "  warnings.warn(\n",
            "/usr/local/lib/python3.10/dist-packages/sklearn/model_selection/_split.py:700: UserWarning: The least populated class in y has only 1 members, which is less than n_splits=5.\n",
            "  warnings.warn(\n",
            "/usr/local/lib/python3.10/dist-packages/sklearn/model_selection/_split.py:700: UserWarning: The least populated class in y has only 1 members, which is less than n_splits=5.\n",
            "  warnings.warn(\n",
            "/usr/local/lib/python3.10/dist-packages/sklearn/model_selection/_split.py:700: UserWarning: The least populated class in y has only 1 members, which is less than n_splits=5.\n",
            "  warnings.warn(\n",
            "/usr/local/lib/python3.10/dist-packages/sklearn/model_selection/_split.py:700: UserWarning: The least populated class in y has only 1 members, which is less than n_splits=5.\n",
            "  warnings.warn(\n",
            "/usr/local/lib/python3.10/dist-packages/sklearn/model_selection/_split.py:700: UserWarning: The least populated class in y has only 1 members, which is less than n_splits=5.\n",
            "  warnings.warn(\n",
            "/usr/local/lib/python3.10/dist-packages/sklearn/model_selection/_split.py:700: UserWarning: The least populated class in y has only 1 members, which is less than n_splits=5.\n",
            "  warnings.warn(\n",
            "/usr/local/lib/python3.10/dist-packages/sklearn/model_selection/_split.py:700: UserWarning: The least populated class in y has only 1 members, which is less than n_splits=5.\n",
            "  warnings.warn(\n",
            "/usr/local/lib/python3.10/dist-packages/sklearn/model_selection/_split.py:700: UserWarning: The least populated class in y has only 1 members, which is less than n_splits=5.\n",
            "  warnings.warn(\n",
            "/usr/local/lib/python3.10/dist-packages/sklearn/model_selection/_split.py:700: UserWarning: The least populated class in y has only 1 members, which is less than n_splits=5.\n",
            "  warnings.warn(\n",
            "/usr/local/lib/python3.10/dist-packages/sklearn/model_selection/_split.py:700: UserWarning: The least populated class in y has only 1 members, which is less than n_splits=5.\n",
            "  warnings.warn(\n",
            "/usr/local/lib/python3.10/dist-packages/sklearn/model_selection/_split.py:700: UserWarning: The least populated class in y has only 1 members, which is less than n_splits=5.\n",
            "  warnings.warn(\n",
            "/usr/local/lib/python3.10/dist-packages/sklearn/model_selection/_split.py:700: UserWarning: The least populated class in y has only 1 members, which is less than n_splits=5.\n",
            "  warnings.warn(\n",
            "/usr/local/lib/python3.10/dist-packages/sklearn/model_selection/_split.py:700: UserWarning: The least populated class in y has only 1 members, which is less than n_splits=5.\n",
            "  warnings.warn(\n",
            "/usr/local/lib/python3.10/dist-packages/sklearn/model_selection/_split.py:700: UserWarning: The least populated class in y has only 1 members, which is less than n_splits=5.\n",
            "  warnings.warn(\n",
            "/usr/local/lib/python3.10/dist-packages/sklearn/model_selection/_split.py:700: UserWarning: The least populated class in y has only 1 members, which is less than n_splits=5.\n",
            "  warnings.warn(\n",
            "/usr/local/lib/python3.10/dist-packages/sklearn/model_selection/_split.py:700: UserWarning: The least populated class in y has only 1 members, which is less than n_splits=5.\n",
            "  warnings.warn(\n",
            "/usr/local/lib/python3.10/dist-packages/sklearn/model_selection/_split.py:700: UserWarning: The least populated class in y has only 1 members, which is less than n_splits=5.\n",
            "  warnings.warn(\n",
            "/usr/local/lib/python3.10/dist-packages/sklearn/model_selection/_split.py:700: UserWarning: The least populated class in y has only 1 members, which is less than n_splits=5.\n",
            "  warnings.warn(\n",
            "/usr/local/lib/python3.10/dist-packages/sklearn/model_selection/_split.py:700: UserWarning: The least populated class in y has only 1 members, which is less than n_splits=5.\n",
            "  warnings.warn(\n"
          ]
        },
        {
          "output_type": "execute_result",
          "data": {
            "text/plain": [
              "Text(0, 0.5, 'Accuracy Score')"
            ]
          },
          "metadata": {},
          "execution_count": 93
        },
        {
          "output_type": "display_data",
          "data": {
            "text/plain": [
              "<Figure size 640x480 with 1 Axes>"
            ],
            "image/png": "[encoded data removed]"
          },
          "metadata": {}
        }
      ]
    },
    {
      "cell_type": "markdown",
      "source": [
        "Random Forest"
      ],
      "metadata": {
        "id": "WKOXpm_hy_r5"
      }
    },
    {
      "cell_type": "code",
      "source": [
        "# Split the data\n",
        "X_train, X_test, y_train, y_test = train_test_split(converted_data, labels, test_size=0.2)\n",
        "\n",
        "# Fit and Evaluate\n",
        "rf = RandomForestClassifier()\n",
        "rf.fit(X_train, y_train)\n",
        "\n",
        "# Accuracy\n",
        "y_pred = rf.predict(X_test)\n",
        "accuracy = accuracy_score(y_test, y_pred)\n",
        "print(\"Accuracy: \", accuracy)\n",
        "\n",
        "# Should we visualize?"
      ],
      "metadata": {
        "id": "YMvqCPSVzBRI",
        "colab": {
          "base_uri": "https://localhost:8080/"
        },
        "outputId": "580033c9-8703-4e0a-caf7-1a07a41cbb28"
      },
      "execution_count": null,
      "outputs": [
        {
          "output_type": "stream",
          "name": "stdout",
          "text": [
            "Accuracy:  0.9\n"
          ]
        }
      ]
    },
    {
      "cell_type": "markdown",
      "source": [
        "SVM"
      ],
      "metadata": {
        "id": "iU7WreZSzBd5"
      }
    },
    {
      "cell_type": "code",
      "source": [
        "from sklearn import svm\n",
        "from sklearn import metrics\n",
        "# Split the data\n",
        "X_train, X_test, y_train, y_test = train_test_split(converted_data, labels, test_size=0.2)\n",
        "\n",
        "# Create the classifier\n",
        "clf = svm.SVC(kernel='linear')\n",
        "\n",
        "# Train the model\n",
        "clf.fit(X_train, y_train)\n",
        "\n",
        "# Predict the response for test dataset\n",
        "y_pred = clf.predict(X_test)\n",
        "\n",
        "# Evaluate\n",
        "print(\"Accuracy: \", metrics.accuracy_score(y_test, y_pred))"
      ],
      "metadata": {
        "id": "1uhuCqiKzD0S",
        "colab": {
          "base_uri": "https://localhost:8080/"
        },
        "outputId": "08b618ac-c2c6-42eb-d37a-2026b35e04ca"
      },
      "execution_count": null,
      "outputs": [
        {
          "output_type": "stream",
          "name": "stdout",
          "text": [
            "Accuracy:  0.8\n"
          ]
        }
      ]
    },
    {
      "cell_type": "markdown",
      "source": [
        "Data Visualization"
      ],
      "metadata": {
        "id": "56hVzkM-zLOT"
      }
    },
    {
      "cell_type": "code",
      "source": [],
      "metadata": {
        "id": "_RkPYDlizN75"
      },
      "execution_count": null,
      "outputs": []
    }
  ]
}